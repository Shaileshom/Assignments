{
 "cells": [
  {
   "cell_type": "markdown",
   "metadata": {},
   "source": [
    "#### 1.1 Write a Python Program(with class concepts) to find the area of the triangle using the below formula.\n",
    "\n",
    "area = (s*(s-a)*(s-b)*(s-c)) ** 0.5\n",
    "\n",
    "Function to take the length of the sides of triangle from user should be defined in the parent class and function to calculate the area should be defined in subclass"
   ]
  },
  {
   "cell_type": "code",
   "execution_count": 40,
   "metadata": {},
   "outputs": [
    {
     "name": "stdout",
     "output_type": "stream",
     "text": [
      "Enter value a : 4\n",
      "Enter value b : 5\n",
      "Enter value c : 6\n",
      "Area of the triangle is :  9.921567416492215\n"
     ]
    }
   ],
   "source": [
    "class tinput:\n",
    "    def __init__(self,a,b,c):\n",
    "        self.a=a\n",
    "        self.b=b\n",
    "        self.c=c\n",
    "a=int(input('Enter value a : '))\n",
    "b=int(input('Enter value b : '))\n",
    "c=int(input('Enter value c : '))\n",
    "\n",
    "class formula(tinput):\n",
    "    def __init__(self,a,b,c):\n",
    "        self.a=a\n",
    "        self.b=b\n",
    "        self.c=c\n",
    "        \n",
    "    def area(self):\n",
    "        s= (a+b+c)/2\n",
    "        ar= (s*(s-a)*(s-b)*(s-c)) ** 0.5\n",
    "        return ar\n",
    "\n",
    "t=formula(a,b,c)\n",
    "print('Area of the triangle is : ' ,t.area())"
   ]
  },
  {
   "cell_type": "markdown",
   "metadata": {},
   "source": [
    "####  1.2 Write a function filter_long_words() that takes a list of words and an integer n and returns the list of words that are longer than n."
   ]
  },
  {
   "cell_type": "code",
   "execution_count": 41,
   "metadata": {},
   "outputs": [
    {
     "name": "stdout",
     "output_type": "stream",
     "text": [
      "Enter comma separated words: sdfhj,bvghdf,jhsdfgh\n",
      "Enter number: 5\n",
      "['sdfhj', 'bvghdf', 'jhsdfgh']\n"
     ]
    }
   ],
   "source": [
    "def filter_long_word(words, number):\n",
    "    l=[]\n",
    "    split_word=words.split(',')\n",
    "    for i in split_word:\n",
    "        if len(i)>= number:\n",
    "            l.append(i)\n",
    "    print(l)\n",
    "            \n",
    "w=input('Enter comma separated words: ')\n",
    "n=int(input('Enter number: '))\n",
    "filter_long_word(w,n)"
   ]
  },
  {
   "cell_type": "code",
   "execution_count": null,
   "metadata": {},
   "outputs": [],
   "source": []
  },
  {
   "cell_type": "markdown",
   "metadata": {},
   "source": [
    "#### 2.1 Write a Python program using function concept that maps list of words into a list of integers representing the lengths of the corresponding words.\n",
    "Hint: If a list [ ab,cde,erty] is passed on to the python function output should come as [2,3,4]\n",
    "\n",
    "Here 2,3 and 4 are the lengths of the words in the list."
   ]
  },
  {
   "cell_type": "code",
   "execution_count": 42,
   "metadata": {},
   "outputs": [
    {
     "name": "stdout",
     "output_type": "stream",
     "text": [
      "Enter words or list of words:  adfjghhdv\n",
      "count of the word:  [9]\n"
     ]
    }
   ],
   "source": [
    "def word_count(word):\n",
    "    l=[]\n",
    "    split_w=word.split(',')\n",
    "    for i in range(len(split_w)):\n",
    "        l.append(len(split_w[i]))\n",
    "    print('count of the word: ', l)\n",
    "w=input('Enter words or list of words:  ')\n",
    "word_count(w)"
   ]
  },
  {
   "cell_type": "code",
   "execution_count": null,
   "metadata": {},
   "outputs": [],
   "source": []
  },
  {
   "cell_type": "markdown",
   "metadata": {},
   "source": [
    "#### 2.2 Write a Python function which takes a character (i.e. a string of length 1) and returns True if it is a vowel, False otherwise."
   ]
  },
  {
   "cell_type": "code",
   "execution_count": 43,
   "metadata": {},
   "outputs": [
    {
     "name": "stdout",
     "output_type": "stream",
     "text": [
      "Enter word:  f\n"
     ]
    },
    {
     "data": {
      "text/plain": [
       "False"
      ]
     },
     "execution_count": 43,
     "metadata": {},
     "output_type": "execute_result"
    }
   ],
   "source": [
    "def vowel_check(word):\n",
    "    l=['a','e','i','o','u','A','E','I','O','U']\n",
    "    for p in l:\n",
    "        if word==p:\n",
    "            return True\n",
    "    else:\n",
    "        return False\n",
    "w=input('Enter word:  ')\n",
    "vowel_check(w)"
   ]
  },
  {
   "cell_type": "code",
   "execution_count": null,
   "metadata": {},
   "outputs": [],
   "source": []
  },
  {
   "cell_type": "code",
   "execution_count": null,
   "metadata": {},
   "outputs": [],
   "source": []
  }
 ],
 "metadata": {
  "kernelspec": {
   "display_name": "Python 3",
   "language": "python",
   "name": "python3"
  },
  "language_info": {
   "codemirror_mode": {
    "name": "ipython",
    "version": 3
   },
   "file_extension": ".py",
   "mimetype": "text/x-python",
   "name": "python",
   "nbconvert_exporter": "python",
   "pygments_lexer": "ipython3",
   "version": "3.7.1"
  }
 },
 "nbformat": 4,
 "nbformat_minor": 2
}
